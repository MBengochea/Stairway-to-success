{
 "cells": [
  {
   "cell_type": "code",
   "execution_count": null,
   "id": "b0ec726d",
   "metadata": {},
   "outputs": [],
   "source": [
    "import numpy as np\n",
    "import pandas as pd\n",
    "import requests\n",
    "import io\n",
    "url = 'https://raw.githubusercontent.com/MauricioBengocheaTorres/Stairway-to-success/main/top50.csv'\n",
    "response = requests.get(url)\n",
    "df = pd.read_csv(io.BytesIO(response.content), encoding='latin1')"
   ]
  }
 ],
 "metadata": {
  "kernelspec": {
   "display_name": "base",
   "language": "python",
   "name": "python3"
  },
  "language_info": {
   "codemirror_mode": {
    "name": "ipython",
    "version": 3
   },
   "file_extension": ".py",
   "mimetype": "text/x-python",
   "name": "python",
   "nbconvert_exporter": "python",
   "pygments_lexer": "ipython3",
   "version": "3.13.5"
  }
 },
 "nbformat": 4,
 "nbformat_minor": 5
}
