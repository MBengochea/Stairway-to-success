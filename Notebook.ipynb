{
 "cells": [
  {
   "cell_type": "code",
   "execution_count": 6,
   "id": "b0ec726d",
   "metadata": {},
   "outputs": [
    {
     "data": {
      "text/plain": [
       "Genre\n",
       "dance pop           8\n",
       "pop                 7\n",
       "latin               5\n",
       "canadian hip hop    3\n",
       "edm                 3\n",
       "dfw rap             2\n",
       "reggaeton flow      2\n",
       "canadian pop        2\n",
       "country rap         2\n",
       "panamanian pop      2\n",
       "reggaeton           2\n",
       "brostep             2\n",
       "electropop          2\n",
       "escape room         1\n",
       "trap music          1\n",
       "australian pop      1\n",
       "pop house           1\n",
       "atl hip hop         1\n",
       "big room            1\n",
       "boy band            1\n",
       "r&b en espanol      1\n",
       "Name: count, dtype: int64"
      ]
     },
     "execution_count": 6,
     "metadata": {},
     "output_type": "execute_result"
    }
   ],
   "source": [
    "import numpy as np\n",
    "import pandas as pd\n",
    "import requests\n",
    "import io\n",
    "url = 'https://raw.githubusercontent.com/MauricioBengocheaTorres/Stairway-to-success/main/top50.csv'\n",
    "response = requests.get(url)\n",
    "df = pd.read_csv(io.BytesIO(response.content), encoding='latin1')\n",
    "df = df.drop(['Loudness..dB..', 'Valence.', 'Beats.Per.Minute', 'Danceability', 'Liveness', 'Acousticness..', 'Speechiness.'], axis=1)\n",
    "df.dtypes\n",
    "df['Genre'].unique()\n",
    "df['Genre'].value_counts()"
   ]
  }
 ],
 "metadata": {
  "kernelspec": {
   "display_name": "base",
   "language": "python",
   "name": "python3"
  },
  "language_info": {
   "codemirror_mode": {
    "name": "ipython",
    "version": 3
   },
   "file_extension": ".py",
   "mimetype": "text/x-python",
   "name": "python",
   "nbconvert_exporter": "python",
   "pygments_lexer": "ipython3",
   "version": "3.13.5"
  }
 },
 "nbformat": 4,
 "nbformat_minor": 5
}
