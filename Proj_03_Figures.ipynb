{
 "cells": [
  {
   "cell_type": "code",
   "source": [
    "import pandas as pd\n",
    "import matplotlib.pyplot as plt\n",
    "import seaborn as sns\n",
    "from graphviz import Digraph\n",
    "\n",
    "df = pd.read_csv('../data/top50.csv')\n",
    "\n",
    "# Genre distribution\n",
    "plt.figure(figsize=(10,6))\n",
    "sns.countplot(y='Genre', data=df, order=df['Genre'].value_counts().index)\n",
    "plt.title('Genre Distribution')\n",
    "plt.show()\n",
    "\n",
    "# Energy vs Popularity\n",
    "plt.figure(figsize=(8,6))\n",
    "sns.scatterplot(x='Energy', y='Popularity', hue='Genre', data=df)\n",
    "plt.title('Energy vs Popularity')\n",
    "plt.show()\n",
    "\n",
    "# Top 10 tracks\n",
    "top10 = df.sort_values(by='Popularity', ascending=False).head(10)\n",
    "plt.figure(figsize=(10,6))\n",
    "sns.barplot(x='Popularity', y='Track.Name', data=top10)\n",
    "plt.title('Top 10 Tracks by Popularity')\n",
    "plt.show()\n",
    "\n",
    "# ERD\n",
    "dot = Digraph()\n",
    "dot.node('Track', 'Track\\nTrack.Name, Artist.Name, Genre, Popularity')\n",
    "dot.node('Metrics', 'Metrics\\nEnergy, Danceability')\n",
    "dot.edge('Track', 'Metrics')\n",
    "dot.render('erd', format='png', cleanup=True)"
   ],
   "metadata": {},
   "execution_count": null,
   "outputs": []
  }
 ],
 "metadata": {},
 "nbformat": 4,
 "nbformat_minor": 2
}

